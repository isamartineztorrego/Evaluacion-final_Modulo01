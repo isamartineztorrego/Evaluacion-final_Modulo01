{
 "cells": [
  {
   "cell_type": "code",
   "execution_count": 34,
   "metadata": {},
   "outputs": [],
   "source": [
    "#Creo la clase:\n",
    "class TiendaOnline:\n",
    "     #Creo el constructor y declaro los atributos\n",
    "    def __init__(self):\n",
    "        self.inventario = [] #Una lista en la que cada artículo será un diccionario {\"nombre\",  \"precio\", \"cantidad\"}\n",
    "        self.clientes = {} #Un diccionario en el que se guardarán los clientes\n",
    "        self.ventas_totales = float(0.0)  #Parten de 0.00€\n",
    "\n",
    "# Punto 4. Agregar productos\n",
    "    def agregar_producto(self, nombre, precio, cantidad):\n",
    "        for producto in self.inventario:  #Itero cada diccionario de la lista inventario\n",
    "            if producto['nombre'] == nombre:   #Si el producto existe en el inventario\n",
    "                producto['cantidad'] += cantidad #Actualiza su cantidad\n",
    "                print(f\"El producto {nombre} ha sido actualizado a {cantidad} uds.\")\n",
    "                return self.inventario\n",
    "\n",
    "        else:\n",
    "            nuevo_producto = {'nombre': nombre, 'precio': precio, 'cantidad': cantidad} #Si no está en el inventario, lo crea\n",
    "            self.inventario.append(nuevo_producto)\n",
    "            print(f\"Se ha añadido el producto {nombre} al inventario.\")\n",
    "\n",
    "# Punto5. Ver inventario\n",
    "    def ver_inventario(self):\n",
    "        for producto in self.inventario:\n",
    "            nombre = producto['nombre'] \n",
    "            precio = producto['precio']\n",
    "            cantidad = producto['cantidad']\n",
    "            print(f\"Nombre: {nombre}, Precio: {precio}€, Cantidad: {cantidad} uds.\")\n",
    "\n",
    "# Punto 6. Buscar productos\n",
    "    \n",
    "    def buscar_producto(self, nombre):\n",
    "        busqueda = [] #Creo una variable en la que guardo la búsqueda para que si no la encuentra, me diga que no hay\n",
    "        for producto in self.inventario: \n",
    "            if producto[\"nombre\"].lower() == nombre.lower(): #Si encuentra el artículo, lo imprime y lo guarda en 'busqueda'\n",
    "                print(f\"Nombre: {producto['nombre']}, Precio: ${producto['precio']}, Cantidad: {producto['cantidad']}\")\n",
    "                busqueda.append(producto)\n",
    " \n",
    "        if not busqueda: #Si no se guardó nada en busqueda es que no apareció el artículo en el inventario, no hay.\n",
    "            print(f\"El artículo {nombre} no está en el inventario.\")\n",
    "            \n",
    "# Punto 7. Actualizar stock\n",
    "      \n",
    "    def actualizar_stock(self, nombre, cantidad):\n",
    "        for producto in self.inventario:\n",
    "            if producto['nombre'] == nombre: #Busca por el nombre y suma/resta la cantidad nueva al inventario existente\n",
    "                producto['cantidad'] += cantidad #Sólo tengo que poner + porque si, al instanciar este método, pongo un - lo va a restar (++-=-)\n",
    "                print(f\"El inventario de {nombre} se ha actualizado.\")  \n",
    "                return self.inventario\n",
    "            \n",
    "        else:\n",
    "            print(f\"El artículo {nombre} no está en el inventario.\")\n",
    "\n",
    "    # Punto 8. Eliminar productos\n",
    "    def eliminar_producto(self, nombre):\n",
    "        for producto in self.inventario:\n",
    "            if producto['nombre'] == nombre: \n",
    "                self.inventario.remove(producto)\n",
    "                print(f\"El artículo {nombre} se ha eliminado.\")\n",
    "                return self.inventario #Devuelve el inventario actualizado\n",
    "        else:\n",
    "            print(f\"El artículo {nombre} no está en el inventario.\")\n",
    "\n",
    "# Punto 9. Valor del inventario\n",
    "    def calcular_valor_inventario(self):\n",
    "        valor_total = 0  #Parte de 0€ y va añadiendo según va recorriendo el inventario\n",
    "        for producto in self.inventario: \n",
    "            valor_producto = producto['precio'] * producto['cantidad'] \n",
    "            valor_total += valor_producto\n",
    "        return f\"El valor total del inventario es: {valor_total}€.\"       \n",
    "\n",
    "# Punto 10. Realizar compras  \n",
    "    def realizar_compra(self):\n",
    "        carrito = []  #Creo carrito vacío en el que se irán guardando las compras\n",
    "        coste_total = 0  #Creo variable en la que se irá sumando el total de cada compra      \n",
    "\n",
    "        while True: #Mientras el cliente quiera continuar con la compra\n",
    "            print(self.ver_inventario())  #Visualiza el inventario antes de la compra\n",
    "            nombre_producto = input(\"¿Qué artículo quieres comprar?\").capitalize()\n",
    "            unidades = int(input(\"¿Cuántas unidades quieres compar?\")) \n",
    "    \n",
    "            for producto in self.inventario:\n",
    "                if producto['nombre'] == nombre_producto and producto['cantidad'] <= unidades:\n",
    "                    print('Cantidad en stock insuficiente.')\n",
    "                elif producto['nombre'] == nombre_producto and producto['cantidad'] >= unidades:  #Si existe el artículo y hay unidades suficientes, lo añado al carrito\n",
    "                    carrito.append({'precio': producto['precio'], 'cantidad': unidades})\n",
    "                    producto['cantidad'] -= unidades  #Resto las unidades compradas del inventario\n",
    "                    coste_total += producto['precio'] * unidades  #Calculo el coste total de esta compra\n",
    "                    print(f'Has añadido al carrito {unidades} unidades de {nombre_producto}. Total: {coste_total}€')\n",
    "            else:\n",
    "                nombre_producto != producto['nombre']\n",
    "                print('Artículo no encontrado.')\n",
    "\n",
    "            seguir = input(\"Quieres seguir con la compra? (s/n): \") \n",
    "            if seguir == 'n':\n",
    "                break\n",
    "        print(f\"Coste total de la compra: {coste_total}€\")\n",
    "\n",
    "# Punto 11. Procesar pago\n",
    "    def procesar_pago(self):\n",
    "        try:\n",
    "            pendiente_pago = float(input(\"Ingresa la cantidad a pagar\"))\n",
    "            print(f'La cantidad a pagar es: {pendiente_pago}')\n",
    "            pago = float(input(\"Ingresa la cantidad pagada\"))\n",
    "            print(f'La cantidad pagada es: {pago}')\n",
    "            cambio = pago - pendiente_pago\n",
    "            if cambio >= 0:\n",
    "                print(f\"Tu cambio es: {cambio}€. ¡Gracias por tu compra!\")\n",
    "            else:\n",
    "                print(f\"Pago insuficiente.\")\n",
    "        except ValueError:\n",
    "            print(\"Ingresa un número válido\")\n",
    "\n",
    "# Punto 12. Agregar clientes\n",
    "    def agregar_cliente(self, nombre, email):\n",
    "        for customer in self.clientes:\n",
    "            if email not in self.clientes:\n",
    "                self.clientes[email]=[nombre, email]\n",
    "                print(f'El cliente {nombre} ha sido añadido a la base de datos de clientes.')\n",
    "                return self.clientes\n",
    "        else:\n",
    "            print(f'Ese email ya está asignado a otro cliente.')"
   ]
  },
  {
   "cell_type": "code",
   "execution_count": 35,
   "metadata": {},
   "outputs": [],
   "source": [
    "#Creo instancia de la clase\n",
    "tienda=TiendaOnline()"
   ]
  },
  {
   "cell_type": "code",
   "execution_count": 36,
   "metadata": {},
   "outputs": [
    {
     "name": "stdout",
     "output_type": "stream",
     "text": [
      "Se ha añadido el producto Camisa al inventario.\n",
      "Se ha añadido el producto Pantalones al inventario.\n",
      "Se ha añadido el producto Sudadera al inventario.\n",
      "Se ha añadido el producto Zapatos al inventario.\n"
     ]
    }
   ],
   "source": [
    "#Agrego productos\n",
    "tienda.agregar_producto('Camisa', 20.99, 50)\n",
    "tienda.agregar_producto('Pantalones', 40.99, 50)\n",
    "tienda.agregar_producto('Sudadera', 20, 15)\n",
    "tienda.agregar_producto('Zapatos', 49.99, 35)"
   ]
  },
  {
   "cell_type": "code",
   "execution_count": 37,
   "metadata": {},
   "outputs": [
    {
     "name": "stdout",
     "output_type": "stream",
     "text": [
      "Nombre: Camisa, Precio: 20.99€, Cantidad: 50 uds.\n",
      "Nombre: Pantalones, Precio: 40.99€, Cantidad: 50 uds.\n",
      "Nombre: Sudadera, Precio: 20€, Cantidad: 15 uds.\n",
      "Nombre: Zapatos, Precio: 49.99€, Cantidad: 35 uds.\n"
     ]
    }
   ],
   "source": [
    "#Veo el inventario\n",
    "tienda.ver_inventario()"
   ]
  },
  {
   "cell_type": "code",
   "execution_count": 38,
   "metadata": {},
   "outputs": [
    {
     "name": "stdout",
     "output_type": "stream",
     "text": [
      "Nombre: Camisa, Precio: $20.99, Cantidad: 50\n",
      "Nombre: Pantalones, Precio: $40.99, Cantidad: 50\n",
      "Nombre: Sudadera, Precio: $20, Cantidad: 15\n",
      "Nombre: Zapatos, Precio: $49.99, Cantidad: 35\n",
      "El artículo Calcetines no está en el inventario.\n"
     ]
    }
   ],
   "source": [
    "#Busco productos\n",
    "tienda.buscar_producto('Camisa')\n",
    "tienda.buscar_producto('Pantalones')\n",
    "tienda.buscar_producto('Sudadera')\n",
    "tienda.buscar_producto('Zapatos')\n",
    "tienda.buscar_producto('Calcetines')"
   ]
  },
  {
   "cell_type": "code",
   "execution_count": 39,
   "metadata": {},
   "outputs": [
    {
     "name": "stdout",
     "output_type": "stream",
     "text": [
      "El inventario de Camisa se ha actualizado.\n"
     ]
    },
    {
     "data": {
      "text/plain": [
       "[{'nombre': 'Camisa', 'precio': 20.99, 'cantidad': 45},\n",
       " {'nombre': 'Pantalones', 'precio': 40.99, 'cantidad': 50},\n",
       " {'nombre': 'Sudadera', 'precio': 20, 'cantidad': 15},\n",
       " {'nombre': 'Zapatos', 'precio': 49.99, 'cantidad': 35}]"
      ]
     },
     "execution_count": 39,
     "metadata": {},
     "output_type": "execute_result"
    }
   ],
   "source": [
    "#Actualizo el stock\n",
    "tienda.actualizar_stock('Camisa', -5)"
   ]
  },
  {
   "cell_type": "code",
   "execution_count": 40,
   "metadata": {},
   "outputs": [
    {
     "name": "stdout",
     "output_type": "stream",
     "text": [
      "El inventario de Sudadera se ha actualizado.\n"
     ]
    },
    {
     "data": {
      "text/plain": [
       "[{'nombre': 'Camisa', 'precio': 20.99, 'cantidad': 45},\n",
       " {'nombre': 'Pantalones', 'precio': 40.99, 'cantidad': 50},\n",
       " {'nombre': 'Sudadera', 'precio': 20, 'cantidad': 60},\n",
       " {'nombre': 'Zapatos', 'precio': 49.99, 'cantidad': 35}]"
      ]
     },
     "execution_count": 40,
     "metadata": {},
     "output_type": "execute_result"
    }
   ],
   "source": [
    "#Actualizo el stock\n",
    "tienda.actualizar_stock('Sudadera', +45)"
   ]
  },
  {
   "cell_type": "code",
   "execution_count": 41,
   "metadata": {},
   "outputs": [
    {
     "name": "stdout",
     "output_type": "stream",
     "text": [
      "El artículo Calcetines no está en el inventario.\n"
     ]
    }
   ],
   "source": [
    "#Actualizo el stock\n",
    "tienda.actualizar_stock('Calcetines', +5)"
   ]
  },
  {
   "cell_type": "code",
   "execution_count": 42,
   "metadata": {},
   "outputs": [
    {
     "name": "stdout",
     "output_type": "stream",
     "text": [
      "El artículo Zapatos se ha eliminado.\n"
     ]
    },
    {
     "data": {
      "text/plain": [
       "[{'nombre': 'Camisa', 'precio': 20.99, 'cantidad': 45},\n",
       " {'nombre': 'Pantalones', 'precio': 40.99, 'cantidad': 50},\n",
       " {'nombre': 'Sudadera', 'precio': 20, 'cantidad': 60}]"
      ]
     },
     "execution_count": 42,
     "metadata": {},
     "output_type": "execute_result"
    }
   ],
   "source": [
    "#Elimino un artículo\n",
    "tienda.eliminar_producto('Zapatos')"
   ]
  },
  {
   "cell_type": "code",
   "execution_count": 43,
   "metadata": {},
   "outputs": [
    {
     "name": "stdout",
     "output_type": "stream",
     "text": [
      "El artículo Calcetines no está en el inventario.\n"
     ]
    }
   ],
   "source": [
    "#Elimino un artículo\n",
    "tienda.eliminar_producto('Calcetines')"
   ]
  },
  {
   "cell_type": "code",
   "execution_count": 44,
   "metadata": {},
   "outputs": [
    {
     "data": {
      "text/plain": [
       "'El valor total del inventario es: 4194.05€.'"
      ]
     },
     "execution_count": 44,
     "metadata": {},
     "output_type": "execute_result"
    }
   ],
   "source": [
    "#Calculo el valor total del inventario\n",
    "tienda.calcular_valor_inventario()"
   ]
  },
  {
   "cell_type": "code",
   "execution_count": 45,
   "metadata": {},
   "outputs": [
    {
     "name": "stdout",
     "output_type": "stream",
     "text": [
      "Nombre: Camisa, Precio: 20.99€, Cantidad: 45 uds.\n",
      "Nombre: Pantalones, Precio: 40.99€, Cantidad: 50 uds.\n",
      "Nombre: Sudadera, Precio: 20€, Cantidad: 60 uds.\n",
      "None\n",
      "Has añadido al carrito 2 unidades de Camisa. Total: 41.98€\n",
      "Artículo no encontrado.\n",
      "Nombre: Camisa, Precio: 20.99€, Cantidad: 43 uds.\n",
      "Nombre: Pantalones, Precio: 40.99€, Cantidad: 50 uds.\n",
      "Nombre: Sudadera, Precio: 20€, Cantidad: 60 uds.\n",
      "None\n",
      "Has añadido al carrito 5 unidades de Sudadera. Total: 141.98€\n",
      "Artículo no encontrado.\n",
      "Coste total de la compra: 141.98€\n"
     ]
    }
   ],
   "source": [
    "#Realizo una compra\n",
    "tienda.realizar_compra()"
   ]
  },
  {
   "cell_type": "code",
   "execution_count": 46,
   "metadata": {},
   "outputs": [
    {
     "name": "stdout",
     "output_type": "stream",
     "text": [
      "La cantidad a pagar es: 123.5\n",
      "La cantidad pagada es: 150.0\n",
      "Tu cambio es: 26.5€. ¡Gracias por tu compra!\n"
     ]
    }
   ],
   "source": [
    "#Proceso un pago ok\n",
    "tienda.procesar_pago()"
   ]
  },
  {
   "cell_type": "code",
   "execution_count": 47,
   "metadata": {},
   "outputs": [
    {
     "name": "stdout",
     "output_type": "stream",
     "text": [
      "La cantidad a pagar es: 150.0\n",
      "La cantidad pagada es: 123.5\n",
      "Pago insuficiente.\n"
     ]
    }
   ],
   "source": [
    "#Proceso un pago erróneo\n",
    "tienda.procesar_pago()"
   ]
  },
  {
   "cell_type": "code",
   "execution_count": 49,
   "metadata": {},
   "outputs": [
    {
     "name": "stdout",
     "output_type": "stream",
     "text": [
      "Ese email ya está asignado a otro cliente.\n"
     ]
    }
   ],
   "source": [
    "#Agrego un cliente\n",
    "tienda.agregar_cliente('Juanita', 'juanita@gmail.com')"
   ]
  },
  {
   "cell_type": "code",
   "execution_count": 48,
   "metadata": {},
   "outputs": [
    {
     "name": "stdout",
     "output_type": "stream",
     "text": [
      "Ese email ya está asignado a otro cliente.\n"
     ]
    }
   ],
   "source": [
    "#Agrego un cliente\n",
    "tienda.agregar_cliente('Pepita', 'pepita@gmail.com')"
   ]
  }
 ],
 "metadata": {
  "kernelspec": {
   "display_name": "base",
   "language": "python",
   "name": "python3"
  },
  "language_info": {
   "codemirror_mode": {
    "name": "ipython",
    "version": 3
   },
   "file_extension": ".py",
   "mimetype": "text/x-python",
   "name": "python",
   "nbconvert_exporter": "python",
   "pygments_lexer": "ipython3",
   "version": "3.9.7"
  }
 },
 "nbformat": 4,
 "nbformat_minor": 2
}
