{
 "cells": [
  {
   "cell_type": "code",
   "execution_count": 1,
   "metadata": {},
   "outputs": [
    {
     "name": "stdout",
     "output_type": "stream",
     "text": [
      "{1: 'monday', 2: 'tuesday', 3: 'wednesday'}\n",
      "{1: 'monday', 2: 'tuesday', 3: 'wednesday', 'hermanos': ['Si', 'No', 'Si', 'Si', 'Si']}\n"
     ]
    }
   ],
   "source": [
    "diccionario2 = { 1:'monday', 2:'tuesday',3:'wednesday'}\n",
    "print(diccionario2)\n",
    "nuevo_elemento = {\"hermanos\": [\"Si\", \"No\", \"Si\", \"Si\", \"Si\"]}\n",
    "diccionario2.update(nuevo_elemento)\n",
    "print(diccionario2)"
   ]
  },
  {
   "cell_type": "code",
   "execution_count": 3,
   "metadata": {},
   "outputs": [
    {
     "name": "stdout",
     "output_type": "stream",
     "text": [
      "{1: 'monday', 2: 'tuesday', 3: 'wednesday', 'hermanos': ['Si', 'No', 'Si', 'Si', 'Si']}\n",
      "{1: 'monday', 2: 'friday', 3: 'wednesday', 'hermanos': ['Si', 'No', 'Si', 'Si', 'Si']}\n"
     ]
    }
   ],
   "source": [
    "print(diccionario2)\n",
    "diccionario2.update({2:'friday'})\n",
    "print(diccionario2)"
   ]
  },
  {
   "cell_type": "code",
   "execution_count": 28,
   "metadata": {},
   "outputs": [
    {
     "name": "stdout",
     "output_type": "stream",
     "text": [
      "[{'nombre': 'Camisa', 'precio': 20, 'cantidad': 40}, {'nombre': 'Pantalón', 'precio': 30, 'cantidad': 30}]\n"
     ]
    }
   ],
   "source": [
    "inventario= [{'nombre': 'Camisa', 'precio': 20, 'cantidad': 40},\n",
    "            {'nombre': 'Pantalón', 'precio': 30, 'cantidad': 30}]\n",
    "print(inventario)"
   ]
  },
  {
   "cell_type": "code",
   "execution_count": 26,
   "metadata": {},
   "outputs": [
    {
     "name": "stdout",
     "output_type": "stream",
     "text": [
      "nombre Camisa\n",
      "precio 20\n",
      "cantidad 40\n",
      "nombre Pantalón\n",
      "precio 30\n",
      "cantidad 30\n",
      "[{'nombre': 'Camisa', 'precio': 20, 'cantidad': 40}, {'nombre': 'Pantalón', 'precio': 30, 'cantidad': 30}]\n"
     ]
    }
   ],
   "source": [
    "for elemento in inventario:\n",
    "    for k,v in elemento.items():\n",
    "        print(k,v)\n",
    "        if elemento[k]=='Jersey':\n",
    "            elemento.update({'nombre':'Jersey', 'precio':200, 'cantidad':5})\n",
    "        \n",
    "print(inventario)    \n"
   ]
  },
  {
   "cell_type": "code",
   "execution_count": 30,
   "metadata": {},
   "outputs": [
    {
     "name": "stdout",
     "output_type": "stream",
     "text": [
      "nombre Camisa\n",
      "precio 200\n",
      "cantidad 5\n",
      "nombre Pantalón\n",
      "precio 200\n",
      "cantidad 5\n",
      "[{'nombre': 'Jersey', 'precio': 200, 'cantidad': 5}, {'nombre': 'Jersey', 'precio': 200, 'cantidad': 5}]\n"
     ]
    }
   ],
   "source": [
    "for elemento in inventario:\n",
    "    for k,v in elemento.items():\n",
    "        print(k,v)\n",
    "        if 'Jersey' in elemento:\n",
    "            elemento.update({'nombre':'Jersey', 'precio':200, 'cantidad':5})\n",
    "        else:\n",
    "            elemento.update({'nombre':'Jersey', 'precio':200, 'cantidad':5})\n",
    "print(inventario)   "
   ]
  },
  {
   "cell_type": "code",
   "execution_count": null,
   "metadata": {},
   "outputs": [],
   "source": [
    "####### PUNTO 2.  PENDIENTE DE REVISAR\n",
    "    #defino los métodos:\n",
    "    def agregar_producto(self, nombre, precio, cantidad):\n",
    "        for elemento in self.inventario:\n",
    "            for k,v in elemento.items():\n",
    "                print(k,v)\n",
    "                if self.nombre in elemento:\n",
    "                    elemento.update()"
   ]
  },
  {
   "cell_type": "code",
   "execution_count": 33,
   "metadata": {},
   "outputs": [],
   "source": [
    "class TiendaOnline:\n",
    "    #creo el constructor de la clase (defino los atributos):\n",
    "    def __init__(self,inventario=[], clientes={}, ventas_totales=0):\n",
    "        #declaro los atributos:\n",
    "        self.inventario=inventario\n",
    "        self.clientes=clientes\n",
    "        self.ventas_totales=ventas_totales\n",
    "\n",
    "    #PENDIENTE DE INCORPORAR EL PUNTO 2 AGREGAR_PRODUCTO!!!!!!\n",
    "\n",
    "    def ver_inventario(self):\n",
    "        for elemento in self.inventario:\n",
    "            return f'El inventario es:\\nNombre: {sef.nombre}, Precio: {self.precio}€, Cantidad: {self.cantidad}'"
   ]
  },
  {
   "cell_type": "code",
   "execution_count": 34,
   "metadata": {},
   "outputs": [],
   "source": [
    "camisa=TiendaOnline({'camisa',20,5}, {})"
   ]
  },
  {
   "cell_type": "code",
   "execution_count": 35,
   "metadata": {},
   "outputs": [
    {
     "data": {
      "text/plain": [
       "\"El inventario es: {20, 5, 'camisa'}\""
      ]
     },
     "execution_count": 35,
     "metadata": {},
     "output_type": "execute_result"
    }
   ],
   "source": [
    "camisa.ver_inventario()"
   ]
  },
  {
   "cell_type": "code",
   "execution_count": 39,
   "metadata": {},
   "outputs": [],
   "source": [
    "class TiendaOnline:\n",
    "    #creo el constructor de la clase (defino los atributos):\n",
    "    def __init__(self,inventario=[], clientes={}, ventas_totales=0):\n",
    "        #declaro los atributos:\n",
    "        self.inventario=inventario\n",
    "        self.clientes=clientes\n",
    "        self.ventas_totales=ventas_totales\n",
    "\n",
    "    #PENDIENTE DE INCORPORAR EL PUNTO 2 AGREGAR_PRODUCTO!!!!!!\n",
    "    def agregar_producto(self, nombre, precio, cantidad):\n",
    "        for elemento in self.inventario:\n",
    "            for tipo in elemento:\n",
    "                if tipo in elemento:\n",
    "                    self.inventario.update()\n",
    "                else:\n",
    "                    self.inventario.update()"
   ]
  },
  {
   "cell_type": "code",
   "execution_count": 40,
   "metadata": {},
   "outputs": [],
   "source": [
    "camisa=TiendaOnline({'camisa',20,5}, {})"
   ]
  },
  {
   "cell_type": "code",
   "execution_count": 41,
   "metadata": {},
   "outputs": [
    {
     "ename": "TypeError",
     "evalue": "'int' object is not iterable",
     "output_type": "error",
     "traceback": [
      "\u001b[0;31m---------------------------------------------------------------------------\u001b[0m",
      "\u001b[0;31mTypeError\u001b[0m                                 Traceback (most recent call last)",
      "\u001b[0;32m/tmp/ipykernel_8768/3170042280.py\u001b[0m in \u001b[0;36m<module>\u001b[0;34m\u001b[0m\n\u001b[0;32m----> 1\u001b[0;31m \u001b[0mcamisa\u001b[0m\u001b[0;34m.\u001b[0m\u001b[0magregar_producto\u001b[0m\u001b[0;34m(\u001b[0m\u001b[0;34m'jersey'\u001b[0m\u001b[0;34m,\u001b[0m \u001b[0;36m20\u001b[0m\u001b[0;34m,\u001b[0m\u001b[0;36m4\u001b[0m\u001b[0;34m)\u001b[0m\u001b[0;34m\u001b[0m\u001b[0;34m\u001b[0m\u001b[0m\n\u001b[0m",
      "\u001b[0;32m/tmp/ipykernel_8768/3586504617.py\u001b[0m in \u001b[0;36magregar_producto\u001b[0;34m(self, nombre, precio, cantidad)\u001b[0m\n\u001b[1;32m     10\u001b[0m     \u001b[0;32mdef\u001b[0m \u001b[0magregar_producto\u001b[0m\u001b[0;34m(\u001b[0m\u001b[0mself\u001b[0m\u001b[0;34m,\u001b[0m \u001b[0mnombre\u001b[0m\u001b[0;34m,\u001b[0m \u001b[0mprecio\u001b[0m\u001b[0;34m,\u001b[0m \u001b[0mcantidad\u001b[0m\u001b[0;34m)\u001b[0m\u001b[0;34m:\u001b[0m\u001b[0;34m\u001b[0m\u001b[0;34m\u001b[0m\u001b[0m\n\u001b[1;32m     11\u001b[0m         \u001b[0;32mfor\u001b[0m \u001b[0melemento\u001b[0m \u001b[0;32min\u001b[0m \u001b[0mself\u001b[0m\u001b[0;34m.\u001b[0m\u001b[0minventario\u001b[0m\u001b[0;34m:\u001b[0m\u001b[0;34m\u001b[0m\u001b[0;34m\u001b[0m\u001b[0m\n\u001b[0;32m---> 12\u001b[0;31m             \u001b[0;32mfor\u001b[0m \u001b[0mtipo\u001b[0m \u001b[0;32min\u001b[0m \u001b[0melemento\u001b[0m\u001b[0;34m:\u001b[0m\u001b[0;34m\u001b[0m\u001b[0;34m\u001b[0m\u001b[0m\n\u001b[0m\u001b[1;32m     13\u001b[0m                 \u001b[0;32mif\u001b[0m \u001b[0mtipo\u001b[0m \u001b[0;32min\u001b[0m \u001b[0melemento\u001b[0m\u001b[0;34m:\u001b[0m\u001b[0;34m\u001b[0m\u001b[0;34m\u001b[0m\u001b[0m\n\u001b[1;32m     14\u001b[0m                     \u001b[0mself\u001b[0m\u001b[0;34m.\u001b[0m\u001b[0minventario\u001b[0m\u001b[0;34m.\u001b[0m\u001b[0mupdate\u001b[0m\u001b[0;34m(\u001b[0m\u001b[0;34m)\u001b[0m\u001b[0;34m\u001b[0m\u001b[0;34m\u001b[0m\u001b[0m\n",
      "\u001b[0;31mTypeError\u001b[0m: 'int' object is not iterable"
     ]
    }
   ],
   "source": [
    "camisa.agregar_producto('jersey', 20,4)"
   ]
  },
  {
   "cell_type": "code",
   "execution_count": 68,
   "metadata": {},
   "outputs": [],
   "source": [
    "class TiendaOnline:\n",
    "    #creo el constructor de la clase (defino los atributos):\n",
    "    def __init__(self,inventario=[], clientes={}, ventas_totales=float(0)):\n",
    "        #declaro los atributos:\n",
    "        self.inventario=inventario\n",
    "        self.clientes=clientes\n",
    "        self.ventas_totales=ventas_totales\n",
    "\n",
    "\n",
    "    def agregar_producto(self, nombre, precio, cantidad):\n",
    "        self.nombre=nombre\n",
    "        self.precio=precio\n",
    "        self.cantidad=cantidad\n",
    "        self.inventario={'Nombre':self.nombre, 'Precio':self.precio, 'Cantidad':self.cantidad}\n",
    "        for elemento in self.inventario: #accede a cada diccionario\n",
    "            for tipo in elemento: #accede a dentro de cada elemento\n",
    "                return f'La cantidad actualizada de {self.nombre} es {self.cantidad}'\n",
    "\n",
    "    def ver_inventario(self):\n",
    "        for elemento in self.inventario:\n",
    "            return f'El inventario es: {self.inventario}'"
   ]
  },
  {
   "cell_type": "code",
   "execution_count": 69,
   "metadata": {},
   "outputs": [],
   "source": [
    "niki=TiendaOnline({},{})"
   ]
  },
  {
   "cell_type": "code",
   "execution_count": 70,
   "metadata": {},
   "outputs": [
    {
     "data": {
      "text/plain": [
       "'La cantidad actualizada de niki es 6'"
      ]
     },
     "execution_count": 70,
     "metadata": {},
     "output_type": "execute_result"
    }
   ],
   "source": [
    "niki.agregar_producto('niki',30, 6)"
   ]
  },
  {
   "cell_type": "code",
   "execution_count": 71,
   "metadata": {},
   "outputs": [
    {
     "data": {
      "text/plain": [
       "'La cantidad actualizada de niki es 1'"
      ]
     },
     "execution_count": 71,
     "metadata": {},
     "output_type": "execute_result"
    }
   ],
   "source": [
    "niki.agregar_producto('niki', 30, 1)"
   ]
  },
  {
   "cell_type": "markdown",
   "metadata": {},
   "source": [
    "---"
   ]
  },
  {
   "cell_type": "code",
   "execution_count": 72,
   "metadata": {},
   "outputs": [],
   "source": [
    "class TiendaOnline:\n",
    "    #creo el constructor de la clase (defino los atributos):\n",
    "    def __init__(self,inventario=[], clientes={}, ventas_totales=float(0)):\n",
    "        #declaro los atributos:\n",
    "        self.inventario=inventario\n",
    "        self.clientes=clientes\n",
    "        self.ventas_totales=ventas_totales\n",
    "\n",
    "    def agregar_producto(self, nombre, precio, cantidad):\n",
    "        self.nombre=nombre\n",
    "        self.precio=precio\n",
    "        self.cantidad=cantidad\n",
    "        self.inventario={'Nombre':self.nombre, 'Precio':self.precio, 'Cantidad':self.cantidad}\n",
    "        for elemento in self.inventario: #accede a cada diccionario\n",
    "            for tipo in elemento: #accede a dentro de cada elemento\n",
    "                return f'La cantidad actualizada de {self.nombre} es {self.cantidad}'\n",
    "\n",
    "    def ver_inventario(self): #tiene que mostrar TODOS los productos. HAY QUE AÑADIRLOS\n",
    "        todos_articulos=\n",
    "        for elemento in self.inventario:\n",
    "            return f'El inventario es: {self.inventario}'"
   ]
  },
  {
   "cell_type": "code",
   "execution_count": 90,
   "metadata": {},
   "outputs": [],
   "source": [
    "class TiendaOnline:\n",
    "    #creo el constructor de la clase (defino los atributos):\n",
    "    def __init__(self,inventario=[], clientes={}, ventas_totales=float(0)):\n",
    "        #declaro los atributos:\n",
    "        self.inventario=inventario\n",
    "        self.clientes=clientes\n",
    "        self.ventas_totales=ventas_totales\n",
    "\n",
    "    def agregar_producto(self, nombre, precio, cantidad):\n",
    "        self.nombre=nombre\n",
    "        self.precio=precio\n",
    "        self.cantidad=cantidad\n",
    "        producto={'Nombre':self.nombre, 'Precio':self.precio, 'Cantidad':self.cantidad}\n",
    "\n",
    "        for elemento in self.inventario: #accede a cada diccionario\n",
    "            if producto['Nombre']==self.nombre: #si exsite el producto\n",
    "                producto['Cantidad']+=self.cantidad\n",
    "                return f'Se ha actualizado {self.nombre} con la cantidad {self.cantidad}'\n",
    "            else:\n",
    "                self.inventario.append(producto)\n",
    "                return f'Se ha creado el producto {self.nombre} con la cantidad {self.cantidad}'\n",
    "\n",
    "    def ver_inventario(self): #tiene que mostrar TODOS los productos. HAY QUE AÑADIRLOS\n",
    "        for elemento in self.inventario:\n",
    "            return f'El inventario es: {self.inventario}'\n",
    "\n",
    "    def buscar_producto(self, nombre):\n",
    "        self.nombre=nombre\n",
    "        for elemento in self.inventario:\n",
    "            return f'Nombre: {self.nombre}, Precio: {self.precio}€, Cantidad {self.cantidad}'\n",
    "\n",
    "    "
   ]
  },
  {
   "cell_type": "code",
   "execution_count": 91,
   "metadata": {},
   "outputs": [],
   "source": [
    "niki=TiendaOnline({},{})"
   ]
  },
  {
   "cell_type": "code",
   "execution_count": 92,
   "metadata": {},
   "outputs": [],
   "source": [
    "niki.agregar_producto('niki', 30, 7)"
   ]
  },
  {
   "cell_type": "code",
   "execution_count": 93,
   "metadata": {},
   "outputs": [],
   "source": [
    "niki.agregar_producto('niki', 3, 20)"
   ]
  }
 ],
 "metadata": {
  "kernelspec": {
   "display_name": "base",
   "language": "python",
   "name": "python3"
  },
  "language_info": {
   "codemirror_mode": {
    "name": "ipython",
    "version": 3
   },
   "file_extension": ".py",
   "mimetype": "text/x-python",
   "name": "python",
   "nbconvert_exporter": "python",
   "pygments_lexer": "ipython3",
   "version": "3.9.7"
  }
 },
 "nbformat": 4,
 "nbformat_minor": 2
}
