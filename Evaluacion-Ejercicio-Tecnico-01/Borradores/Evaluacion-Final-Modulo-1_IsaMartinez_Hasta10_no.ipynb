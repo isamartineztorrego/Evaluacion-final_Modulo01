{
 "cells": [
  {
   "cell_type": "code",
   "execution_count": 65,
   "metadata": {},
   "outputs": [],
   "source": [
    "# Creo la clase:\n",
    "class TiendaOnline:\n",
    "     # Creo el constructor y declaro los atributos\n",
    "    def __init__(self):\n",
    "        self.inventario = []# una lista en la que cada artículo será un diccionario {\"nombre\",  \"precio\", \"cantidad\"}\n",
    "        self.clientes = {} # un diccionario en el que se guardarán los clientes\n",
    "        self.historial= {} # diccionario vacio que contiene, {\"email y compras\"} PTE DE ELIMINAR********************************************************************************\n",
    "        self.ventas_totales = float(0.0)  # Las ventas, parten de 0.00€\n",
    "\n",
    "# Método 1: Agregar productos\n",
    "    def agregar_producto(self, nombre, precio, cantidad):\n",
    "        for producto in self.inventario:  # Itero cada diccionario de la lista inventario\n",
    "            if producto['nombre'] == nombre:   # Si el producto existe en el inventario\n",
    "                producto['cantidad'] += cantidad # Actualiza su cantidad\n",
    "                print(f\"El producto {nombre} ha sido actualizado a {cantidad} uds.\")\n",
    "                return self.inventario\n",
    "\n",
    "        else:\n",
    "            nuevo_producto = {'nombre': nombre, 'precio': precio, 'cantidad': cantidad} # Si no está en el inventario\n",
    "            self.inventario.append(nuevo_producto)\n",
    "            print(f\"Se ha añadido el producto {nombre} al inventario.\")\n",
    "\n",
    "# Método 2: Inventario\n",
    "    def ver_inventario(self):\n",
    "        for producto in self.inventario:\n",
    "            nombre = producto['nombre'] \n",
    "            precio = producto['precio']\n",
    "            cantidad = producto['cantidad']\n",
    "            print(f\"Nombre: {nombre}, Precio: {precio}€, Cantidad: {cantidad} uds\")\n",
    "\n",
    "# Método 3: Buscar productos\n",
    "    \n",
    "    def buscar_producto(self, nombre):\n",
    "        resultado = [] # Creo una variable en la que guardo la búsqueda para que si no la encuentra, me diga que no hay\n",
    "        for producto in self.inventario: \n",
    "            if producto[\"nombre\"].lower() == nombre.lower(): # Si encuentra el artículo, lo guarda en 'resultado' y lo imprime\n",
    "                print(f\"Nombre: {producto['nombre']}, Precio: ${producto['precio']}, Cantidad: {producto['cantidad']}\")\n",
    "                resultado.append(producto)\n",
    " \n",
    "        if not resultado: # Si no se guardó nada en resultado (no apareció el artículo en el inventario)\n",
    "            print(f\"El artículo {nombre} no está en el inventario.\")\n",
    "            \n",
    "# Método 4: Actualizar Stock\n",
    "      \n",
    "    def actualizar_stock(self, nombre, cantidad):\n",
    "        for producto in self.inventario:\n",
    "            if producto['nombre'] == nombre: # Busca por el nombre y suma la cantidad nueva al inventario existente\n",
    "                producto['cantidad'] += cantidad\n",
    "                print(f\"El inventario de {nombre} se ha actualizado.\")  \n",
    "                return self.inventario\n",
    "            \n",
    "        else:\n",
    "            print(f\"El artículo {nombre} no está en el inventario.\")\n",
    "\n",
    "    # Método 5: Eliminar Productos\n",
    "    def eliminar_producto(self, nombre):\n",
    "        for producto in self.inventario:\n",
    "            if producto['nombre'] == nombre: \n",
    "                self.inventario.remove(producto)\n",
    "                print(f\"El artículo {nombre} se ha eliminado.\")   # Imprime un mensaje de éxito de la eliminación del producto\n",
    "                return self.inventario  # Nos devuelve el inventario actualizado.\n",
    "        else:\n",
    "            print(f\"El artículo {nombre} no está en el inventario.\")\n",
    "\n",
    "# Método 6: Valor Inventario\n",
    "    def calcular_valor_inventario(self):\n",
    "        valor_total = 0   \n",
    "        for producto in self.inventario: \n",
    "            valor_producto = producto['precio'] * producto['cantidad'] \n",
    "            valor_total += valor_producto\n",
    "        return f\"El valor total del inventario es: {valor_total}€\"       \n",
    "\n",
    "# Método 8:Realizar compras  \n",
    "    def realizar_compra(self):\n",
    "        carrito = []  # Creo carrito vacío en el que se irán guardando las compras\n",
    "        seguir_comprando = True  # Por defecto está en sí, pero al final de cada compra le pregunto si quiere seguir con la compra y si dice que no, rompe el while.\n",
    "        coste_total = 0  # Creo variable en la que se irá sumando el total de cada compra      \n",
    "\n",
    "        while seguir_comprando == True:  \n",
    "            print(self.ver_inventario())  # Visualiza el inventario antes de la compra\n",
    "            nombre_producto = input(\"¿Qué artículo quieres comprar?\").capitalize()\n",
    "            unidades = int(input(\"¿Cuántas unidades quieres compar?\")) \n",
    "    \n",
    "            for producto in self.inventario:\n",
    "                if producto['nombre'] != nombre_producto:\n",
    "                    print('Artículo no encontrado.')\n",
    "                    continue\n",
    "                elif producto['nombre'] == nombre_producto and producto['cantidad'] <= unidades:\n",
    "                    print('Cantidad en stock insuficiente.')\n",
    "                    continue\n",
    "                elif producto['nombre'] == nombre_producto and producto['cantidad'] >= unidades:  # Si existe el artículo y hay unidades suficientes, lo añado al carrito\n",
    "                    carrito.append({'precio': producto['precio'], 'cantidad': unidades})\n",
    "                    producto['cantidad'] -= unidades  # Resto las unidades compradas del inventario\n",
    "                    coste_total += producto['precio'] * unidades  # Calculo el coste total de esta compra\n",
    "                    print(f'Has añadido al carrtito {unidades} unidades de {nombre_producto}. Total: {coste_total}€')\n",
    "\n",
    "\n",
    "            seguir = input(\"Quieres seguir con la compra? (s/n): \")  # Preguntamos al cliente si quiere seguir comprando\n",
    "            if seguir.lower() != 's':\n",
    "                seguir_comprando = False  # Si la respuesta no es 's', terminamos la compra\n",
    "\n",
    "    \n",
    "        print(f\"Coste total de la compra: {coste_total}€\")\n"
   ]
  },
  {
   "cell_type": "code",
   "execution_count": 66,
   "metadata": {},
   "outputs": [],
   "source": [
    "#Creo instancia de la clase\n",
    "tienda=TiendaOnline()"
   ]
  },
  {
   "cell_type": "code",
   "execution_count": 67,
   "metadata": {},
   "outputs": [
    {
     "name": "stdout",
     "output_type": "stream",
     "text": [
      "Se ha añadido el producto Camisa al inventario.\n",
      "Se ha añadido el producto Pantalones al inventario.\n",
      "Se ha añadido el producto Sudadera al inventario.\n",
      "Se ha añadido el producto Zapatos al inventario.\n"
     ]
    }
   ],
   "source": [
    "#Agrego productos\n",
    "tienda.agregar_producto('Camisa', 20.99, 50)\n",
    "tienda.agregar_producto('Pantalones', 40.99, 50)\n",
    "tienda.agregar_producto('Sudadera', 20, 15)\n",
    "tienda.agregar_producto('Zapatos', 49.99, 35)"
   ]
  },
  {
   "cell_type": "code",
   "execution_count": 68,
   "metadata": {},
   "outputs": [
    {
     "name": "stdout",
     "output_type": "stream",
     "text": [
      "Nombre: Camisa, Precio: 20.99€, Cantidad: 50 uds\n",
      "Nombre: Pantalones, Precio: 40.99€, Cantidad: 50 uds\n",
      "Nombre: Sudadera, Precio: 20€, Cantidad: 15 uds\n",
      "Nombre: Zapatos, Precio: 49.99€, Cantidad: 35 uds\n"
     ]
    }
   ],
   "source": [
    "#Veo el inventario\n",
    "tienda.ver_inventario()"
   ]
  },
  {
   "cell_type": "code",
   "execution_count": 69,
   "metadata": {},
   "outputs": [
    {
     "name": "stdout",
     "output_type": "stream",
     "text": [
      "Nombre: Camisa, Precio: $20.99, Cantidad: 50\n",
      "Nombre: Pantalones, Precio: $40.99, Cantidad: 50\n",
      "Nombre: Sudadera, Precio: $20, Cantidad: 15\n",
      "Nombre: Zapatos, Precio: $49.99, Cantidad: 35\n",
      "El artículo Calcetines no está en el inventario.\n"
     ]
    }
   ],
   "source": [
    "#Busco productos\n",
    "tienda.buscar_producto('Camisa')\n",
    "tienda.buscar_producto('Pantalones')\n",
    "tienda.buscar_producto('Sudadera')\n",
    "tienda.buscar_producto('Zapatos')\n",
    "tienda.buscar_producto('Calcetines')"
   ]
  },
  {
   "cell_type": "code",
   "execution_count": 70,
   "metadata": {},
   "outputs": [
    {
     "name": "stdout",
     "output_type": "stream",
     "text": [
      "El inventario de Camisa se ha actualizado.\n"
     ]
    },
    {
     "data": {
      "text/plain": [
       "[{'nombre': 'Camisa', 'precio': 20.99, 'cantidad': 45},\n",
       " {'nombre': 'Pantalones', 'precio': 40.99, 'cantidad': 50},\n",
       " {'nombre': 'Sudadera', 'precio': 20, 'cantidad': 15},\n",
       " {'nombre': 'Zapatos', 'precio': 49.99, 'cantidad': 35}]"
      ]
     },
     "execution_count": 70,
     "metadata": {},
     "output_type": "execute_result"
    }
   ],
   "source": [
    "#Actualizo el stock\n",
    "tienda.actualizar_stock('Camisa', -5)"
   ]
  },
  {
   "cell_type": "code",
   "execution_count": 71,
   "metadata": {},
   "outputs": [
    {
     "name": "stdout",
     "output_type": "stream",
     "text": [
      "El inventario de Sudadera se ha actualizado.\n"
     ]
    },
    {
     "data": {
      "text/plain": [
       "[{'nombre': 'Camisa', 'precio': 20.99, 'cantidad': 45},\n",
       " {'nombre': 'Pantalones', 'precio': 40.99, 'cantidad': 50},\n",
       " {'nombre': 'Sudadera', 'precio': 20, 'cantidad': 60},\n",
       " {'nombre': 'Zapatos', 'precio': 49.99, 'cantidad': 35}]"
      ]
     },
     "execution_count": 71,
     "metadata": {},
     "output_type": "execute_result"
    }
   ],
   "source": [
    "#Actualizo el stock\n",
    "tienda.actualizar_stock('Sudadera', +45)"
   ]
  },
  {
   "cell_type": "code",
   "execution_count": 72,
   "metadata": {},
   "outputs": [
    {
     "name": "stdout",
     "output_type": "stream",
     "text": [
      "El artículo Calcetines no está en el inventario.\n"
     ]
    }
   ],
   "source": [
    "#Actualizo el stock\n",
    "tienda.actualizar_stock('Calcetines', +5)"
   ]
  },
  {
   "cell_type": "code",
   "execution_count": 73,
   "metadata": {},
   "outputs": [
    {
     "name": "stdout",
     "output_type": "stream",
     "text": [
      "El artículo Zapatos se ha eliminado.\n"
     ]
    },
    {
     "data": {
      "text/plain": [
       "[{'nombre': 'Camisa', 'precio': 20.99, 'cantidad': 45},\n",
       " {'nombre': 'Pantalones', 'precio': 40.99, 'cantidad': 50},\n",
       " {'nombre': 'Sudadera', 'precio': 20, 'cantidad': 60}]"
      ]
     },
     "execution_count": 73,
     "metadata": {},
     "output_type": "execute_result"
    }
   ],
   "source": [
    "#Elimino un artículo\n",
    "tienda.eliminar_producto('Zapatos')"
   ]
  },
  {
   "cell_type": "code",
   "execution_count": 74,
   "metadata": {},
   "outputs": [
    {
     "name": "stdout",
     "output_type": "stream",
     "text": [
      "El artículo Calcetines no está en el inventario.\n"
     ]
    }
   ],
   "source": [
    "#Elimino un artículo\n",
    "tienda.eliminar_producto('Calcetines')"
   ]
  },
  {
   "cell_type": "code",
   "execution_count": 75,
   "metadata": {},
   "outputs": [
    {
     "data": {
      "text/plain": [
       "'El valor total del inventario es: 4194.05€'"
      ]
     },
     "execution_count": 75,
     "metadata": {},
     "output_type": "execute_result"
    }
   ],
   "source": [
    "#Calculo el valor total del inventario\n",
    "tienda.calcular_valor_inventario()"
   ]
  },
  {
   "cell_type": "code",
   "execution_count": 76,
   "metadata": {},
   "outputs": [
    {
     "name": "stdout",
     "output_type": "stream",
     "text": [
      "Nombre: Camisa, Precio: 20.99€, Cantidad: 45 uds\n",
      "Nombre: Pantalones, Precio: 40.99€, Cantidad: 50 uds\n",
      "Nombre: Sudadera, Precio: 20€, Cantidad: 60 uds\n",
      "None\n",
      "Has añadido al carrtito 2 unidades de Camisa. Total: 41.98€\n",
      "Artículo no encontrado.\n",
      "Artículo no encontrado.\n",
      "Nombre: Camisa, Precio: 20.99€, Cantidad: 43 uds\n",
      "Nombre: Pantalones, Precio: 40.99€, Cantidad: 50 uds\n",
      "Nombre: Sudadera, Precio: 20€, Cantidad: 60 uds\n",
      "None\n",
      "Artículo no encontrado.\n",
      "Has añadido al carrtito 3 unidades de Pantalones. Total: 164.95€\n",
      "Artículo no encontrado.\n",
      "Nombre: Camisa, Precio: 20.99€, Cantidad: 43 uds\n",
      "Nombre: Pantalones, Precio: 40.99€, Cantidad: 47 uds\n",
      "Nombre: Sudadera, Precio: 20€, Cantidad: 60 uds\n",
      "None\n",
      "Artículo no encontrado.\n",
      "Artículo no encontrado.\n",
      "Has añadido al carrtito 5 unidades de Sudadera. Total: 264.95€\n",
      "Nombre: Camisa, Precio: 20.99€, Cantidad: 43 uds\n",
      "Nombre: Pantalones, Precio: 40.99€, Cantidad: 47 uds\n",
      "Nombre: Sudadera, Precio: 20€, Cantidad: 55 uds\n",
      "None\n",
      "Artículo no encontrado.\n",
      "Artículo no encontrado.\n",
      "Artículo no encontrado.\n",
      "Coste total de la compra: 264.95€\n"
     ]
    }
   ],
   "source": [
    "#Realizo una compra\n",
    "tienda.realizar_compra()"
   ]
  }
 ],
 "metadata": {
  "kernelspec": {
   "display_name": "base",
   "language": "python",
   "name": "python3"
  },
  "language_info": {
   "codemirror_mode": {
    "name": "ipython",
    "version": 3
   },
   "file_extension": ".py",
   "mimetype": "text/x-python",
   "name": "python",
   "nbconvert_exporter": "python",
   "pygments_lexer": "ipython3",
   "version": "3.9.7"
  }
 },
 "nbformat": 4,
 "nbformat_minor": 2
}
