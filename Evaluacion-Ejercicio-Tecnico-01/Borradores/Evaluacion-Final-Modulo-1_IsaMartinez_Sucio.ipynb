{
 "cells": [
  {
   "cell_type": "code",
   "execution_count": null,
   "metadata": {},
   "outputs": [],
   "source": [
    "# INVENTARIO (una lista de diccionarios)\n",
    "#**** EMPEZAR POR UNA LISTA VACÍA\n",
    "# cada artículo está en un diccionario\n",
    "# el atributo INVENTARIO es una lista con todos los diccionarios\n",
    "#[{'nombre': 'Camisa', 'precio': 20, 'cantidad': 40},\n",
    "#{'nombre': 'Pantalón', 'precio': 30, 'cantidad': 30}]\n"
   ]
  },
  {
   "cell_type": "code",
   "execution_count": null,
   "metadata": {},
   "outputs": [],
   "source": [
    "# CLIENTES (un diccionario con diccionarios)\n",
    "#**** EMPEZAR POR UN DICCIONARIO VACÍO\n",
    "#cada cliente tiene un subdiccionario con sus datos\n",
    "#{'Cliente1': {'email': 'cliente1@email.com', 'compras': []},\n",
    "#'Cliente2': {'email': 'cliente2@email.com', 'compras': []}}"
   ]
  },
  {
   "cell_type": "code",
   "execution_count": null,
   "metadata": {},
   "outputs": [],
   "source": [
    "# VENTAS TOTALES (float)\n",
    "#****EMPEZAR CON UN VALOR 0"
   ]
  },
  {
   "cell_type": "code",
   "execution_count": 179,
   "metadata": {},
   "outputs": [],
   "source": [
    "class TiendaOnline:\n",
    "    #creo el constructor de la clase (defino los atributos):\n",
    "    def __init__(self,inventario=[], clientes={}, ventas_totales=float(0)):\n",
    "        #declaro los atributos:\n",
    "        self.inventario=inventario\n",
    "        self.clientes=clientes\n",
    "        self.ventas_totales=ventas_totales\n",
    "\n",
    "    def agregar_producto(self, nombre, precio, cantidad):\n",
    "        self.nombre=nombre\n",
    "        self.precio=precio\n",
    "        self.cantidad=cantidad\n",
    "        self.inventario={'Nombre':self.nombre, 'Precio':self.precio, 'Cantidad':self.cantidad}\n",
    "        for elemento in self.inventario: #accede a cada diccionario de la lista\n",
    "            for tipo in elemento: #accede a dentro de cada elemento\n",
    "                return f'La cantidad actualizada de {self.nombre} es {self.cantidad}'\n",
    "\n",
    "    def ver_inventario(self): #tiene que mostrar TODOS los productos. HAY QUE AÑADIRLOS\n",
    "        for elemento in self.inventario:\n",
    "            return f'El inventario es: {self.inventario}'\n",
    "\n",
    "    def buscar_producto(self, nombre):\n",
    "        self.nombre=nombre\n",
    "        for elemento in self.inventario:\n",
    "            return f'Nombre: {self.nombre}, Precio: {self.precio}€, Cantidad {self.cantidad}'\n",
    "\n",
    "    def actualizar_stock(self, nombre, cantidad):\n",
    "        self.nombre=nombre\n",
    "        self.cantidad=cantidad\n",
    "        for elemento in self.inventario:\n",
    "            if self.nombre not in self.inventario:\n",
    "                return f'Ese producto no estaba en el inventario'\n",
    "            else:\n",
    "                return f'La cantidad actualizada de {self.nombre} es {self.cantidad}'\n",
    "\n",
    "    def eliminar_producto(self, nombre):\n",
    "        self.nombre=nombre\n",
    "        if self.nombre ont in self.inventario:\n",
    "            return f'Ese producto no existía en el inventario'\n",
    "        else:\n",
    "            for elemento in self.inventario:\n",
    "                \n",
    "\n",
    "\n",
    "    "
   ]
  },
  {
   "cell_type": "code",
   "execution_count": 180,
   "metadata": {},
   "outputs": [],
   "source": [
    "tienda=TiendaOnline({},{})"
   ]
  },
  {
   "cell_type": "code",
   "execution_count": 181,
   "metadata": {},
   "outputs": [],
   "source": [
    "tienda.buscar_producto('camiseta')"
   ]
  },
  {
   "cell_type": "code",
   "execution_count": 182,
   "metadata": {},
   "outputs": [
    {
     "data": {
      "text/plain": [
       "'Nombre: camiseta, Precio: 10€, Cantidad 40'"
      ]
     },
     "execution_count": 182,
     "metadata": {},
     "output_type": "execute_result"
    }
   ],
   "source": [
    "camiseta.buscar_producto('camiseta')"
   ]
  },
  {
   "cell_type": "code",
   "execution_count": 183,
   "metadata": {},
   "outputs": [
    {
     "data": {
      "text/plain": [
       "'La cantidad actualizada de camiseta es 40'"
      ]
     },
     "execution_count": 183,
     "metadata": {},
     "output_type": "execute_result"
    }
   ],
   "source": [
    "camiseta.actualizar_stock('camiseta', 40)"
   ]
  },
  {
   "cell_type": "code",
   "execution_count": 184,
   "metadata": {},
   "outputs": [],
   "source": [
    "shorts=TiendaOnline({},{})"
   ]
  },
  {
   "cell_type": "code",
   "execution_count": 185,
   "metadata": {},
   "outputs": [],
   "source": [
    "shorts.actualizar_stock('shorts', 9)"
   ]
  }
 ],
 "metadata": {
  "kernelspec": {
   "display_name": "base",
   "language": "python",
   "name": "python3"
  },
  "language_info": {
   "codemirror_mode": {
    "name": "ipython",
    "version": 3
   },
   "file_extension": ".py",
   "mimetype": "text/x-python",
   "name": "python",
   "nbconvert_exporter": "python",
   "pygments_lexer": "ipython3",
   "version": "3.9.7"
  }
 },
 "nbformat": 4,
 "nbformat_minor": 2
}
